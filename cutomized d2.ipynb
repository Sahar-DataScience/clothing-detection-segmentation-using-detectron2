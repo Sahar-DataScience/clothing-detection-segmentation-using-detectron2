{
 "cells": [
  {
   "cell_type": "markdown",
   "id": "c0415580",
   "metadata": {},
   "source": [
    "# Cutomizing resnet50_mask_rcnn from detectron2 to deepfashion2 dataset"
   ]
  },
  {
   "cell_type": "markdown",
   "id": "b3c78fb7",
   "metadata": {},
   "source": [
    "## **Importing dependencies**"
   ]
  },
  {
   "cell_type": "code",
   "execution_count": null,
   "id": "f7ae4a8d",
   "metadata": {},
   "outputs": [],
   "source": [
    "# Some basic setup:\n",
    "# Setup detectron2 logger\n",
    "import detectron2\n",
    "from detectron2.utils.logger import setup_logger\n",
    "setup_logger()\n",
    "\n",
    "# import some common libraries\n",
    "import numpy as np\n",
    "import os, json, random\n",
    "\n",
    "# import some common detectron2 utilities\n",
    "from detectron2 import model_zoo\n",
    "from detectron2.engine import DefaultPredictor\n",
    "from detectron2.config import get_cfg\n",
    "from detectron2.utils.visualizer import Visualizer\n",
    "from detectron2.data import MetadataCatalog, DatasetCatalog\n",
    "from detectron2.data.datasets import register_coco_instances"
   ]
  },
  {
   "cell_type": "markdown",
   "id": "31f63121",
   "metadata": {},
   "source": [
    "## **registering datasets**"
   ]
  },
  {
   "cell_type": "code",
   "execution_count": null,
   "id": "95456668",
   "metadata": {},
   "outputs": [],
   "source": [
    "#registering train data\n",
    "register_coco_instances(\"fashion_train\", {}, \n",
    "                        \"/path/to/json/file/train.json\",\n",
    "                        \"/path/to/dataset/train/image/\")\n",
    "\n",
    "fashion_metadata = MetadataCatalog.get(\"fashion_train\")\n",
    "print(fashion_metadata)\n",
    "dataset_dicts = DatasetCatalog.get(\"fashion_train\")\n",
    "print(dataset_dicts)\n",
    "\n",
    "#registering test data\n",
    "register_coco_instances(\"fashion_test\", {}, \n",
    "                        \"/path/to/json/file/test.json\",\n",
    "                        \"/path/to/testset/image/\")\n",
    "\n",
    "\n",
    "fashion_test_metadata = MetadataCatalog.get(\"fashion_test\")\n",
    "print(fashion_test_metadata)\n",
    "dataset_test_dicts = DatasetCatalog.get(\"fashion_test\")\n",
    "print(dataset_test_dicts)"
   ]
  },
  {
   "cell_type": "markdown",
   "id": "2d93f7ce",
   "metadata": {},
   "source": [
    "## **visualizing ground truths**"
   ]
  },
  {
   "cell_type": "code",
   "execution_count": null,
   "id": "222922cc",
   "metadata": {},
   "outputs": [],
   "source": [
    "for d in random.sample(dataset_dicts, 3):    \n",
    "    im = cv2.imread(d[\"file_name\"])\n",
    "    v = Visualizer(im[:, :, ::-1], metadata=fashion_metadata, scale=0.8)\n",
    "    v = v.draw_dataset_dict(d)\n",
    "    plt.figure(figsize = (14, 10))\n",
    "    plt.imshow(cv2.cvtColor(v.get_image()[:, :, ::-1], cv2.COLOR_BGR2RGB))\n",
    "    plt.show()"
   ]
  },
  {
   "cell_type": "markdown",
   "id": "bb043f5c",
   "metadata": {},
   "source": [
    "## **setting up model's configuration**"
   ]
  },
  {
   "cell_type": "code",
   "execution_count": null,
   "id": "6bd75404",
   "metadata": {},
   "outputs": [],
   "source": [
    "from detectron2.engine import DefaultTrainer\n",
    "\n",
    "cfg = get_cfg()\n",
    "cfg.OUTPUT_DIR = \"/path/to/log/folder/\"\n",
    "cfg.merge_from_file(model_zoo.get_config_file(\"COCO-InstanceSegmentation/mask_rcnn_R_50_FPN_3x.yaml\"))\n",
    "cfg.DATASETS.TRAIN = (\"fashion_train\",)\n",
    "cfg.DATASETS.TEST = (\"fashion_test\")\n",
    "cfg.DATALOADER.NUM_WORKERS = 4\n",
    "cfg.MODEL.WEIGHTS = model_zoo.get_checkpoint_url(\"COCO-InstanceSegmentation/mask_rcnn_R_50_FPN_3x.yaml\")  # Let training initialize from model zoo\n",
    "\n",
    "cfg.SOLVER.IMS_PER_BATCH = 2\n",
    "cfg.SOLVER.BASE_LR = 0.001  # pick a good LR\n",
    "cfg.SOLVER.MAX_ITER = 271740 #13 587*20epc\n",
    "cfg.SOLVER.STEPS = (163044,230979) # The iteration number to decrease learning rate by GAMMA. to decay lr (12,17)\n",
    "cfg.SOLVER.gamma = 0.5\n",
    "cfg.SOLVER.IMS_PER_BATCH = 4\n",
    "cfg.SOLVER.CHECKPOINT_PERIOD = 13587 #after each epc        # do not decay learning rate\n",
    "\n",
    "cfg.MODEL.ROI_HEADS.BATCH_SIZE_PER_IMAGE = 128   # faster (default: 512)\n",
    "cfg.MODEL.ROI_HEADS.NUM_CLASSES = 5 \n",
    "\n",
    "os.makedirs(cfg.OUTPUT_DIR, exist_ok=True)"
   ]
  },
  {
   "cell_type": "markdown",
   "id": "ca730bd9",
   "metadata": {},
   "source": [
    "## **launch training**"
   ]
  },
  {
   "cell_type": "code",
   "execution_count": null,
   "id": "3290211a",
   "metadata": {},
   "outputs": [],
   "source": [
    "trainer = DefaultTrainer(cfg)\n",
    "trainer.resume_or_load(resume=False)\n",
    "trainer.train()"
   ]
  },
  {
   "cell_type": "markdown",
   "id": "d27e8ea7",
   "metadata": {},
   "source": [
    "## **evaluation**"
   ]
  },
  {
   "cell_type": "code",
   "execution_count": null,
   "id": "e68ffd4f",
   "metadata": {},
   "outputs": [],
   "source": [
    "cfg.MODEL.WEIGHTS = os.path.join(cfg.OUTPUT_DIR, \"model_final.pth\")  # path to the model we just trained\n",
    "cfg.MODEL.ROI_HEADS.SCORE_THRESH_TEST = 0.7   # set a custom testing threshold\n",
    "predictor = DefaultPredictor(cfg)\n",
    "#%%\n",
    "from detectron2.evaluation import COCOEvaluator, inference_on_dataset\n",
    "from detectron2.data import build_detection_test_loader\n",
    "evaluator = COCOEvaluator(\"fashion_test\",output_dir=\"/path/to/results/folder/\")\n",
    "val_loader = build_detection_test_loader(cfg, \"fashion_test\")\n",
    "data = inference_on_dataset(predictor.model, val_loader, evaluator)\n",
    "print(data)"
   ]
  },
  {
   "cell_type": "markdown",
   "id": "4ddac591",
   "metadata": {},
   "source": [
    "## **Inference**"
   ]
  },
  {
   "cell_type": "code",
   "execution_count": null,
   "id": "3b4f7d46",
   "metadata": {},
   "outputs": [],
   "source": [
    "from detectron2.config import get_cfg\n",
    "from detectron2.engine import DefaultPredictor\n",
    "from detectron2.data import MetadataCatalog\n",
    "from detectron2.utils.visualizer import Visualizer, ColorMode , _create_text_labels \n",
    "from detectron2.utils.colormap import random_color\n",
    "import matplotlib.pyplot as plt\n",
    "import cv2.cv2 as cv2\n",
    "\n",
    "\n",
    "img_path=\"/image/path/exemple.jpg\"\n",
    "\n",
    "cfg = get_cfg()\n",
    "cfg.MODEL.WEIGHTS = \"/path/to/final/check^point/model_final.pth\" # path for final model\n",
    "predictor = DefaultPredictor(cfg)\n",
    "im = cv2.imread(img_path)\n",
    "outputs = predictor(im)\n",
    "v = Visualizer(im[:, :, ::-1],\n",
    "               metadata=fashion_test_metadata,\n",
    "               scale=1,\n",
    "               instance_mode=ColorMode.SEGMENTATION)\n",
    "out = v.draw_instance_predictions(outputs[\"instances\"].to(\"cpu\"))\n",
    "#.draw_text(outputs[\"instances\"].pred_classes.to(\"cpu\"),(x,y),font_size=12)\n",
    "#out=v.draw_text(outputs[\"instances\"].pred_classes.to(\"cpu\"),(x,y),font_size=20)\n",
    "img = cv2.cvtColor(out.get_image()[:, :, ::-1], cv2.COLOR_BGR2RGB)\n",
    "plt.figure(figsize = (15, 12))\n",
    "plt.axis('off')\n",
    "plt.imshow(img)"
   ]
  }
 ],
 "metadata": {
  "kernelspec": {
   "display_name": "Python 3 (ipykernel)",
   "language": "python",
   "name": "python3"
  },
  "language_info": {
   "codemirror_mode": {
    "name": "ipython",
    "version": 3
   },
   "file_extension": ".py",
   "mimetype": "text/x-python",
   "name": "python",
   "nbconvert_exporter": "python",
   "pygments_lexer": "ipython3",
   "version": "3.8.8"
  }
 },
 "nbformat": 4,
 "nbformat_minor": 5
}
